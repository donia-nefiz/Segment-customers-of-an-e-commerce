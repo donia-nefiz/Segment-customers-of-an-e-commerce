{
 "cells": [
  {
   "cell_type": "markdown",
   "id": "541dda00",
   "metadata": {},
   "source": [
    "# Segment customers of an e-commerce"
   ]
  },
  {
   "cell_type": "markdown",
   "id": "fc084fd9",
   "metadata": {},
   "source": [
    "## *Maintenance contract (part 3)*"
   ]
  },
  {
   "cell_type": "markdown",
   "id": "9da0e91e",
   "metadata": {},
   "source": [
    "My mission for <strong>Olist</strong> is to provide its e-commerce teams with customer segmentation that they can use on a daily basis for their communication campaigns.<br><br>\n",
    "My goal is to understand different types of users through their behavior and personal data.<br><br>\n",
    "I must provide the marketing team with an actionable description of their segmentation and its underlying logic for optimal use, as well as a maintenance contract proposal based on an analysis of the stability of the segments over time.\n",
    "\n",
    "<u><strong>Summary</strong></u> :<br>\n",
    "<br>\n",
    "<strong>Tools</strong> [(here)](#another_cell_0)<br><br>\n",
    "<strong>III. Maintenance contract</strong><br>\n",
    "     -- A. K-means classification of Olist customers who purchased in 2016 and 2017<br>\n",
    "     ---- <i>☛ Data preprocessing<br>\n",
    "     ---- ☛ KMeans clustering on data before 2018</i>    \n",
    "     -- B. Adjusted Rand Index on customers data until 2018<br>\n",
    "     ---- <i>☛ Adjusted Rand Index of KMeans model on previous 2018 customer data<br>\n",
    "     ---- ☛ Adjusted Rand Index of the KMeans model on previous February 2018 customer data<br></i>  \n",
    "<strong>Conclusion (part 3) </strong> [(here)](#another_cell_l)"
   ]
  },
  {
   "cell_type": "markdown",
   "id": "396283f6",
   "metadata": {},
   "source": [
    "<a id='another_cell_0'></a>"
   ]
  },
  {
   "cell_type": "markdown",
   "id": "ad04d6df",
   "metadata": {},
   "source": [
    "### Tools"
   ]
  },
  {
   "cell_type": "code",
   "execution_count": 1,
   "id": "17fb2e3a",
   "metadata": {},
   "outputs": [],
   "source": [
    "import pandas as pd\n",
    "import numpy as np\n",
    "import matplotlib.pyplot as plt\n",
    "from matplotlib.collections import LineCollection\n",
    "import seaborn as sns\n",
    "import warnings\n",
    "import random\n",
    "warnings.filterwarnings('ignore')\n",
    "\n",
    "from yellowbrick.cluster import KElbowVisualizer\n",
    "from sklearn.cluster import KMeans\n",
    "from sklearn.metrics import silhouette_score\n",
    "from sklearn.metrics import adjusted_rand_score"
   ]
  },
  {
   "cell_type": "code",
   "execution_count": 2,
   "id": "2b5e9bdd",
   "metadata": {},
   "outputs": [],
   "source": [
    "# Read Olist data before standardization\n",
    "data = pd.read_csv('agg_data_xprt.csv', sep=';')\n",
    "data = data.drop(columns=[\"Unnamed: 0\"])"
   ]
  },
  {
   "cell_type": "code",
   "execution_count": 3,
   "id": "9551f204",
   "metadata": {},
   "outputs": [],
   "source": [
    "# Read RFM stansardized data + review_score\n",
    "data_ = pd.read_csv('export_olist_standardized_data_rmf_review.csv', sep=';')\n",
    "standardized_data = data_.drop(columns=[\"Unnamed: 0\"])"
   ]
  },
  {
   "cell_type": "markdown",
   "id": "8c0987d9",
   "metadata": {},
   "source": [
    " "
   ]
  },
  {
   "cell_type": "markdown",
   "id": "db8526ed",
   "metadata": {},
   "source": [
    "## I. Maintenance contract"
   ]
  },
  {
   "cell_type": "markdown",
   "id": "a1a45e1d",
   "metadata": {},
   "source": [
    " "
   ]
  },
  {
   "cell_type": "markdown",
   "id": "f6165234",
   "metadata": {},
   "source": [
    "### A. K-means classification of Olist customers who purchased in 2016 and 2017"
   ]
  },
  {
   "cell_type": "markdown",
   "id": "fa4766ba",
   "metadata": {},
   "source": [
    "- **Data preprocessing**"
   ]
  },
  {
   "cell_type": "code",
   "execution_count": 4,
   "id": "433ae093",
   "metadata": {},
   "outputs": [
    {
     "data": {
      "text/html": [
       "<div>\n",
       "<style scoped>\n",
       "    .dataframe tbody tr th:only-of-type {\n",
       "        vertical-align: middle;\n",
       "    }\n",
       "\n",
       "    .dataframe tbody tr th {\n",
       "        vertical-align: top;\n",
       "    }\n",
       "\n",
       "    .dataframe thead th {\n",
       "        text-align: right;\n",
       "    }\n",
       "</style>\n",
       "<table border=\"1\" class=\"dataframe\">\n",
       "  <thead>\n",
       "    <tr style=\"text-align: right;\">\n",
       "      <th></th>\n",
       "      <th>customer_id</th>\n",
       "      <th>customer_city</th>\n",
       "      <th>customer_state</th>\n",
       "      <th>nb_of_orders</th>\n",
       "      <th>preferred_purchasing_category</th>\n",
       "      <th>most_recent_purchase_date</th>\n",
       "      <th>payment_value</th>\n",
       "      <th>payment_installments</th>\n",
       "      <th>review_score</th>\n",
       "    </tr>\n",
       "  </thead>\n",
       "  <tbody>\n",
       "    <tr>\n",
       "      <th>0</th>\n",
       "      <td>00012a2ce6f8dcda20d059ce98491703</td>\n",
       "      <td>osasco</td>\n",
       "      <td>SP</td>\n",
       "      <td>1</td>\n",
       "      <td>brinquedos</td>\n",
       "      <td>14/11/2017 16:08</td>\n",
       "      <td>114.74</td>\n",
       "      <td>8</td>\n",
       "      <td>1.0</td>\n",
       "    </tr>\n",
       "    <tr>\n",
       "      <th>1</th>\n",
       "      <td>000161a058600d5901f007fab4c27140</td>\n",
       "      <td>itapecerica</td>\n",
       "      <td>MG</td>\n",
       "      <td>1</td>\n",
       "      <td>beleza_saude</td>\n",
       "      <td>16/07/2017 09:40</td>\n",
       "      <td>67.41</td>\n",
       "      <td>5</td>\n",
       "      <td>4.0</td>\n",
       "    </tr>\n",
       "    <tr>\n",
       "      <th>2</th>\n",
       "      <td>0001fd6190edaaf884bcaf3d49edf079</td>\n",
       "      <td>nova venecia</td>\n",
       "      <td>ES</td>\n",
       "      <td>1</td>\n",
       "      <td>bebes</td>\n",
       "      <td>28/02/2017 11:06</td>\n",
       "      <td>195.42</td>\n",
       "      <td>10</td>\n",
       "      <td>5.0</td>\n",
       "    </tr>\n",
       "    <tr>\n",
       "      <th>3</th>\n",
       "      <td>0002414f95344307404f0ace7a26f1d5</td>\n",
       "      <td>mendonca</td>\n",
       "      <td>MG</td>\n",
       "      <td>1</td>\n",
       "      <td>cool_stuff</td>\n",
       "      <td>16/08/2017 13:09</td>\n",
       "      <td>179.35</td>\n",
       "      <td>1</td>\n",
       "      <td>5.0</td>\n",
       "    </tr>\n",
       "    <tr>\n",
       "      <th>4</th>\n",
       "      <td>000379cdec625522490c315e70c7a9fb</td>\n",
       "      <td>sao paulo</td>\n",
       "      <td>SP</td>\n",
       "      <td>1</td>\n",
       "      <td>cama_mesa_banho</td>\n",
       "      <td>02/04/2018 13:42</td>\n",
       "      <td>107.01</td>\n",
       "      <td>1</td>\n",
       "      <td>4.0</td>\n",
       "    </tr>\n",
       "  </tbody>\n",
       "</table>\n",
       "</div>"
      ],
      "text/plain": [
       "                        customer_id customer_city customer_state  \\\n",
       "0  00012a2ce6f8dcda20d059ce98491703        osasco             SP   \n",
       "1  000161a058600d5901f007fab4c27140   itapecerica             MG   \n",
       "2  0001fd6190edaaf884bcaf3d49edf079  nova venecia             ES   \n",
       "3  0002414f95344307404f0ace7a26f1d5      mendonca             MG   \n",
       "4  000379cdec625522490c315e70c7a9fb     sao paulo             SP   \n",
       "\n",
       "   nb_of_orders preferred_purchasing_category most_recent_purchase_date  \\\n",
       "0             1                    brinquedos          14/11/2017 16:08   \n",
       "1             1                  beleza_saude          16/07/2017 09:40   \n",
       "2             1                         bebes          28/02/2017 11:06   \n",
       "3             1                    cool_stuff          16/08/2017 13:09   \n",
       "4             1               cama_mesa_banho          02/04/2018 13:42   \n",
       "\n",
       "   payment_value  payment_installments  review_score  \n",
       "0         114.74                     8           1.0  \n",
       "1          67.41                     5           4.0  \n",
       "2         195.42                    10           5.0  \n",
       "3         179.35                     1           5.0  \n",
       "4         107.01                     1           4.0  "
      ]
     },
     "execution_count": 4,
     "metadata": {},
     "output_type": "execute_result"
    }
   ],
   "source": [
    "data.head()"
   ]
  },
  {
   "cell_type": "markdown",
   "id": "a261fe9e",
   "metadata": {},
   "source": [
    "<div class=\"alert-success\">\n",
    "<strong>→ We will train our KMeans classification model on data from customers who made a purchase on Olist strictly before 2018</strong>\n",
    "</div>"
   ]
  },
  {
   "cell_type": "code",
   "execution_count": 5,
   "id": "41a498d3",
   "metadata": {},
   "outputs": [
    {
     "name": "stdout",
     "output_type": "stream",
     "text": [
      "Deadline : 2018-01-01 00:00:00\n"
     ]
    }
   ],
   "source": [
    "# Convert most_recent_purchase_date column to datetime format\n",
    "data['most_recent_purchase_date'] = pd.to_datetime(data['most_recent_purchase_date'], format='%d/%m/%Y %H:%M')\n",
    "# Deadline for division (01/01/2018)\n",
    "deadline = pd.to_datetime('01/01/2018', format='%d/%m/%Y')\n",
    "print(f\"Deadline : {deadline}\")"
   ]
  },
  {
   "cell_type": "code",
   "execution_count": 6,
   "id": "53c334d3",
   "metadata": {},
   "outputs": [
    {
     "data": {
      "text/plain": [
       "Timestamp('2017-12-31 23:29:00')"
      ]
     },
     "execution_count": 6,
     "metadata": {},
     "output_type": "execute_result"
    }
   ],
   "source": [
    "# Split the DataFrame into two DataFrames\n",
    "before_deadline = data[data['most_recent_purchase_date'] < deadline]\n",
    "after_deadline = data[data['most_recent_purchase_date'] >= deadline]\n",
    "before_deadline['most_recent_purchase_date'].max()"
   ]
  },
  {
   "cell_type": "code",
   "execution_count": 7,
   "id": "b21c0fd6",
   "metadata": {
    "scrolled": true
   },
   "outputs": [],
   "source": [
    "# List of customer_ids having consumed before the deadline\n",
    "customer_ids_before = before_deadline['customer_id'].tolist()"
   ]
  },
  {
   "cell_type": "code",
   "execution_count": 8,
   "id": "9c6ad534",
   "metadata": {},
   "outputs": [
    {
     "name": "stdout",
     "output_type": "stream",
     "text": [
      "There are 42815 customers in our dataframe before June 2017.\n"
     ]
    }
   ],
   "source": [
    "print(f\"There are {len(customer_ids_before)} customers in our dataframe before June 2017.\")"
   ]
  },
  {
   "cell_type": "code",
   "execution_count": 9,
   "id": "b81b0513",
   "metadata": {},
   "outputs": [
    {
     "name": "stdout",
     "output_type": "stream",
     "text": [
      "<class 'pandas.core.frame.DataFrame'>\n",
      "Int64Index: 42815 entries, 0 to 94544\n",
      "Data columns (total 5 columns):\n",
      " #   Column                                  Non-Null Count  Dtype  \n",
      "---  ------                                  --------------  -----  \n",
      " 0   customer_id                             42815 non-null  object \n",
      " 1   nb_of_orders                            42815 non-null  float64\n",
      " 2   payment_value                           42815 non-null  float64\n",
      " 3   review_score                            42815 non-null  float64\n",
      " 4   standardized_most_recent_purchase_date  42815 non-null  int64  \n",
      "dtypes: float64(3), int64(1), object(1)\n",
      "memory usage: 2.0+ MB\n"
     ]
    }
   ],
   "source": [
    "# Filter the df standardized_data with the list of customer_ids_before\n",
    "data_before_2018 = standardized_data[standardized_data['customer_id'].isin(customer_ids_before)]\n",
    "data_before_2018.info()"
   ]
  },
  {
   "cell_type": "markdown",
   "id": "3ce16c9a",
   "metadata": {},
   "source": [
    "- **KMeans clustering on data before 2018**"
   ]
  },
  {
   "cell_type": "code",
   "execution_count": 10,
   "id": "00f91f72",
   "metadata": {},
   "outputs": [],
   "source": [
    "data_before_2018 = data_before_2018.set_index('customer_id')"
   ]
  },
  {
   "cell_type": "code",
   "execution_count": 11,
   "id": "c100b952",
   "metadata": {},
   "outputs": [
    {
     "data": {
      "image/png": "[encoded data removed]",
      "text/plain": [
       "<Figure size 576x396 with 2 Axes>"
      ]
     },
     "metadata": {},
     "output_type": "display_data"
    },
    {
     "data": {
      "text/plain": [
       "<AxesSubplot:title={'center':'Distortion Score Elbow for KMeans Clustering'}, xlabel='k', ylabel='distortion score'>"
      ]
     },
     "execution_count": 11,
     "metadata": {},
     "output_type": "execute_result"
    }
   ],
   "source": [
    "model = KElbowVisualizer(KMeans(), k=10)\n",
    "model.fit(data_before_2018)\n",
    "model.show()"
   ]
  },
  {
   "cell_type": "markdown",
   "id": "a30c5450",
   "metadata": {},
   "source": [
    "<div class=\"alert-success\">\n",
    "    <u>Notice</u> :\n",
    "<i><br><li>According to the elbow curve, the optimal number of clusters is 4\n",
    "</i></div>"
   ]
  },
  {
   "cell_type": "code",
   "execution_count": 12,
   "id": "2c00d2f5",
   "metadata": {},
   "outputs": [
    {
     "data": {
      "text/html": [
       "<style>#sk-container-id-1 {color: black;background-color: white;}#sk-container-id-1 pre{padding: 0;}#sk-container-id-1 div.sk-toggleable {background-color: white;}#sk-container-id-1 label.sk-toggleable__label {cursor: pointer;display: block;width: 100%;margin-bottom: 0;padding: 0.3em;box-sizing: border-box;text-align: center;}#sk-container-id-1 label.sk-toggleable__label-arrow:before {content: \"▸\";float: left;margin-right: 0.25em;color: #696969;}#sk-container-id-1 label.sk-toggleable__label-arrow:hover:before {color: black;}#sk-container-id-1 div.sk-estimator:hover label.sk-toggleable__label-arrow:before {color: black;}#sk-container-id-1 div.sk-toggleable__content {max-height: 0;max-width: 0;overflow: hidden;text-align: left;background-color: #f0f8ff;}#sk-container-id-1 div.sk-toggleable__content pre {margin: 0.2em;color: black;border-radius: 0.25em;background-color: #f0f8ff;}#sk-container-id-1 input.sk-toggleable__control:checked~div.sk-toggleable__content {max-height: 200px;max-width: 100%;overflow: auto;}#sk-container-id-1 input.sk-toggleable__control:checked~label.sk-toggleable__label-arrow:before {content: \"▾\";}#sk-container-id-1 div.sk-estimator input.sk-toggleable__control:checked~label.sk-toggleable__label {background-color: #d4ebff;}#sk-container-id-1 div.sk-label input.sk-toggleable__control:checked~label.sk-toggleable__label {background-color: #d4ebff;}#sk-container-id-1 input.sk-hidden--visually {border: 0;clip: rect(1px 1px 1px 1px);clip: rect(1px, 1px, 1px, 1px);height: 1px;margin: -1px;overflow: hidden;padding: 0;position: absolute;width: 1px;}#sk-container-id-1 div.sk-estimator {font-family: monospace;background-color: #f0f8ff;border: 1px dotted black;border-radius: 0.25em;box-sizing: border-box;margin-bottom: 0.5em;}#sk-container-id-1 div.sk-estimator:hover {background-color: #d4ebff;}#sk-container-id-1 div.sk-parallel-item::after {content: \"\";width: 100%;border-bottom: 1px solid gray;flex-grow: 1;}#sk-container-id-1 div.sk-label:hover label.sk-toggleable__label {background-color: #d4ebff;}#sk-container-id-1 div.sk-serial::before {content: \"\";position: absolute;border-left: 1px solid gray;box-sizing: border-box;top: 0;bottom: 0;left: 50%;z-index: 0;}#sk-container-id-1 div.sk-serial {display: flex;flex-direction: column;align-items: center;background-color: white;padding-right: 0.2em;padding-left: 0.2em;position: relative;}#sk-container-id-1 div.sk-item {position: relative;z-index: 1;}#sk-container-id-1 div.sk-parallel {display: flex;align-items: stretch;justify-content: center;background-color: white;position: relative;}#sk-container-id-1 div.sk-item::before, #sk-container-id-1 div.sk-parallel-item::before {content: \"\";position: absolute;border-left: 1px solid gray;box-sizing: border-box;top: 0;bottom: 0;left: 50%;z-index: -1;}#sk-container-id-1 div.sk-parallel-item {display: flex;flex-direction: column;z-index: 1;position: relative;background-color: white;}#sk-container-id-1 div.sk-parallel-item:first-child::after {align-self: flex-end;width: 50%;}#sk-container-id-1 div.sk-parallel-item:last-child::after {align-self: flex-start;width: 50%;}#sk-container-id-1 div.sk-parallel-item:only-child::after {width: 0;}#sk-container-id-1 div.sk-dashed-wrapped {border: 1px dashed gray;margin: 0 0.4em 0.5em 0.4em;box-sizing: border-box;padding-bottom: 0.4em;background-color: white;}#sk-container-id-1 div.sk-label label {font-family: monospace;font-weight: bold;display: inline-block;line-height: 1.2em;}#sk-container-id-1 div.sk-label-container {text-align: center;}#sk-container-id-1 div.sk-container {/* jupyter's `normalize.less` sets `[hidden] { display: none; }` but bootstrap.min.css set `[hidden] { display: none !important; }` so we also need the `!important` here to be able to override the default hidden behavior on the sphinx rendered scikit-learn.org. See: https://github.com/scikit-learn/scikit-learn/issues/21755 */display: inline-block !important;position: relative;}#sk-container-id-1 div.sk-text-repr-fallback {display: none;}</style><div id=\"sk-container-id-1\" class=\"sk-top-container\"><div class=\"sk-text-repr-fallback\"><pre>KMeans(n_clusters=4)</pre><b>In a Jupyter environment, please rerun this cell to show the HTML representation or trust the notebook. <br />On GitHub, the HTML representation is unable to render, please try loading this page with nbviewer.org.</b></div><div class=\"sk-container\" hidden><div class=\"sk-item\"><div class=\"sk-estimator sk-toggleable\"><input class=\"sk-toggleable__control sk-hidden--visually\" id=\"sk-estimator-id-1\" type=\"checkbox\" checked><label for=\"sk-estimator-id-1\" class=\"sk-toggleable__label sk-toggleable__label-arrow\">KMeans</label><div class=\"sk-toggleable__content\"><pre>KMeans(n_clusters=4)</pre></div></div></div></div></div>"
      ],
      "text/plain": [
       "KMeans(n_clusters=4)"
      ]
     },
     "execution_count": 12,
     "metadata": {},
     "output_type": "execute_result"
    }
   ],
   "source": [
    "# K-Means model with 4 clusters\n",
    "model_kmeans = KMeans(n_clusters=4)\n",
    "model_kmeans.fit(data_before_2018)"
   ]
  },
  {
   "cell_type": "code",
   "execution_count": 13,
   "id": "0f40e9a3",
   "metadata": {},
   "outputs": [
    {
     "name": "stdout",
     "output_type": "stream",
     "text": [
      "Silhouette score : 0.5872969622264845\n"
     ]
    }
   ],
   "source": [
    "# Silhouette score calculation\n",
    "labels = model_kmeans.labels_\n",
    "silhouette_avg = silhouette_score(data_before_2018, labels)\n",
    "print(f\"Silhouette score : {silhouette_avg}\")"
   ]
  },
  {
   "cell_type": "markdown",
   "id": "e49bdcad",
   "metadata": {},
   "source": [
    " "
   ]
  },
  {
   "cell_type": "markdown",
   "id": "a41cbc81",
   "metadata": {},
   "source": [
    "### B. Adjusted Rand Index on customers data until 2018"
   ]
  },
  {
   "cell_type": "markdown",
   "id": "c1fd5ebe",
   "metadata": {},
   "source": [
    "<a id='another_cell_k'></a>"
   ]
  },
  {
   "cell_type": "markdown",
   "id": "61bb2f09",
   "metadata": {},
   "source": [
    "- **Adjusted Rand Index of KMeans model on previous 2018 customer data**"
   ]
  },
  {
   "cell_type": "code",
   "execution_count": 14,
   "id": "34a5c5a5",
   "metadata": {},
   "outputs": [],
   "source": [
    "# Determine which clusters each data point belongs to\n",
    "clusters =  model_kmeans.fit_predict(data_before_2018)\n",
    "\n",
    "# Add the cluster number to the original scaled data\n",
    "X_clustered = pd.DataFrame(data_before_2018, index=data_before_2018.index, columns=data_before_2018.columns)\n",
    "X_clustered[\"cluster\"] = clusters"
   ]
  },
  {
   "cell_type": "code",
   "execution_count": 15,
   "id": "a56cc695",
   "metadata": {},
   "outputs": [
    {
     "name": "stdout",
     "output_type": "stream",
     "text": [
      "Adjusted Rand Index on previous 2018 customer data: 1.0\n"
     ]
    }
   ],
   "source": [
    "# Adjusted Rand Index calculation\n",
    "labels = model_kmeans.labels_\n",
    "ari = adjusted_rand_score(X_clustered[\"cluster\"], labels)\n",
    "print(\"Adjusted Rand Index on previous 2018 customer data:\", ari)"
   ]
  },
  {
   "cell_type": "markdown",
   "id": "18589ddc",
   "metadata": {},
   "source": [
    "- **Adjusted Rand Index of the KMeans model on previous February 2018 customer data**"
   ]
  },
  {
   "cell_type": "code",
   "execution_count": 16,
   "id": "01f57546",
   "metadata": {},
   "outputs": [
    {
     "name": "stdout",
     "output_type": "stream",
     "text": [
      "Deadline February 2018 : 2018-01-01 00:00:00\n"
     ]
    }
   ],
   "source": [
    "# Deadline for division (01/02/2018)\n",
    "deadline_fev_2018 = pd.to_datetime('01/02/2018', format='%d/%m/%Y')\n",
    "print(f\"Deadline February 2018 : {deadline}\")"
   ]
  },
  {
   "cell_type": "code",
   "execution_count": 17,
   "id": "b06ed223",
   "metadata": {},
   "outputs": [
    {
     "data": {
      "text/plain": [
       "Timestamp('2018-01-31 23:58:00')"
      ]
     },
     "execution_count": 17,
     "metadata": {},
     "output_type": "execute_result"
    }
   ],
   "source": [
    "# Split the DataFrame into two DataFrames\n",
    "before_deadline_fev_2018 = data[data['most_recent_purchase_date'] < deadline_fev_2018]\n",
    "after_deadline_fev_2018 = data[data['most_recent_purchase_date'] >= deadline_fev_2018]\n",
    "before_deadline_fev_2018['most_recent_purchase_date'].max()"
   ]
  },
  {
   "cell_type": "code",
   "execution_count": 18,
   "id": "febefc44",
   "metadata": {},
   "outputs": [],
   "source": [
    "# List of customer_ids having consumed before the deadline\n",
    "customer_ids_before_fev_2018 = before_deadline_fev_2018['customer_id'].tolist()"
   ]
  },
  {
   "cell_type": "code",
   "execution_count": 19,
   "id": "751ef75c",
   "metadata": {},
   "outputs": [
    {
     "name": "stdout",
     "output_type": "stream",
     "text": [
      "There are 6931 customers in our dataframe between June 2017 and December 2017.\n"
     ]
    }
   ],
   "source": [
    "print(f\"There are {len(customer_ids_before_fev_2018) - len(customer_ids_before)} customers in our dataframe between June 2017 and December 2017.\")"
   ]
  },
  {
   "cell_type": "code",
   "execution_count": 20,
   "id": "32e533c0",
   "metadata": {},
   "outputs": [],
   "source": [
    "# Combined the 2 customers lists\n",
    "customer_ids_before_fev_2018 = customer_ids_before_fev_2018 + customer_ids_before"
   ]
  },
  {
   "cell_type": "code",
   "execution_count": 21,
   "id": "03f7d2d3",
   "metadata": {},
   "outputs": [
    {
     "name": "stdout",
     "output_type": "stream",
     "text": [
      "<class 'pandas.core.frame.DataFrame'>\n",
      "Index: 49746 entries, 00012a2ce6f8dcda20d059ce98491703 to ffffa3172527f765de70084a7e53aae8\n",
      "Data columns (total 4 columns):\n",
      " #   Column                                  Non-Null Count  Dtype  \n",
      "---  ------                                  --------------  -----  \n",
      " 0   nb_of_orders                            49746 non-null  float64\n",
      " 1   payment_value                           49746 non-null  float64\n",
      " 2   review_score                            49746 non-null  float64\n",
      " 3   standardized_most_recent_purchase_date  49746 non-null  int64  \n",
      "dtypes: float64(3), int64(1)\n",
      "memory usage: 1.9+ MB\n"
     ]
    }
   ],
   "source": [
    "# Filter the df standardized_data with the list of customer_ids_before_fev\n",
    "data_before_fev_2018 = standardized_data[standardized_data['customer_id'].isin(customer_ids_before_fev_2018)]\n",
    "data_before_fev_2018 = data_before_fev_2018.set_index('customer_id')\n",
    "data_before_fev_2018.info()"
   ]
  },
  {
   "cell_type": "code",
   "execution_count": 22,
   "id": "8f25264d",
   "metadata": {},
   "outputs": [],
   "source": [
    "# Determine which clusters each data point belongs to\n",
    "clusters_fev_2018 =  model_kmeans.fit_predict(data_before_fev_2018)\n",
    "\n",
    "# Add the cluster number to the original scaled data\n",
    "X_clustered_fev_2018 = pd.DataFrame(data_before_fev_2018, index=data_before_fev_2018.index, columns=data_before_fev_2018.columns)\n",
    "X_clustered_fev_2018[\"cluster\"] = clusters_fev_2018"
   ]
  },
  {
   "cell_type": "code",
   "execution_count": 23,
   "id": "ab2fd48e",
   "metadata": {},
   "outputs": [
    {
     "name": "stdout",
     "output_type": "stream",
     "text": [
      "<class 'pandas.core.frame.DataFrame'>\n",
      "RangeIndex: 49746 entries, 0 to 49745\n",
      "Data columns (total 6 columns):\n",
      " #   Column                                  Non-Null Count  Dtype  \n",
      "---  ------                                  --------------  -----  \n",
      " 0   customer_id                             49746 non-null  object \n",
      " 1   nb_of_orders                            49746 non-null  float64\n",
      " 2   payment_value                           49746 non-null  float64\n",
      " 3   review_score                            49746 non-null  float64\n",
      " 4   standardized_most_recent_purchase_date  49746 non-null  int64  \n",
      " 5   cluster                                 49746 non-null  int32  \n",
      "dtypes: float64(3), int32(1), int64(1), object(1)\n",
      "memory usage: 2.1+ MB\n"
     ]
    }
   ],
   "source": [
    "X_clustered_fev_2018 = X_clustered_fev_2018.reset_index(drop=False)\n",
    "X_clustered_fev_2018.info()"
   ]
  },
  {
   "cell_type": "code",
   "execution_count": 24,
   "id": "5b613c39",
   "metadata": {},
   "outputs": [
    {
     "name": "stdout",
     "output_type": "stream",
     "text": [
      "<class 'pandas.core.frame.DataFrame'>\n",
      "Index: 42815 entries, 00012a2ce6f8dcda20d059ce98491703 to ffffa3172527f765de70084a7e53aae8\n",
      "Data columns (total 5 columns):\n",
      " #   Column                                  Non-Null Count  Dtype  \n",
      "---  ------                                  --------------  -----  \n",
      " 0   nb_of_orders                            42815 non-null  float64\n",
      " 1   payment_value                           42815 non-null  float64\n",
      " 2   review_score                            42815 non-null  float64\n",
      " 3   standardized_most_recent_purchase_date  42815 non-null  int64  \n",
      " 4   cluster                                 42815 non-null  int32  \n",
      "dtypes: float64(3), int32(1), int64(1)\n",
      "memory usage: 1.8+ MB\n"
     ]
    }
   ],
   "source": [
    "# Filter the df X_clustered_fev_2018 with the list of customer_ids_before\n",
    "filtered_data_before_2018 = X_clustered_fev_2018[X_clustered_fev_2018['customer_id'].isin(customer_ids_before)]\n",
    "filtered_data_before_2018 = filtered_data_before_2018.set_index('customer_id')\n",
    "filtered_data_before_2018.info()"
   ]
  },
  {
   "cell_type": "code",
   "execution_count": 25,
   "id": "260f3067",
   "metadata": {},
   "outputs": [
    {
     "name": "stdout",
     "output_type": "stream",
     "text": [
      "Adjusted Rand Index on previous February 2018 customer data: 0.6950177829296885\n"
     ]
    }
   ],
   "source": [
    "# Adjusted Rand Index calculation\n",
    "ari_fev_2018 = adjusted_rand_score(filtered_data_before_2018[\"cluster\"], X_clustered[\"cluster\"])\n",
    "print(\"Adjusted Rand Index on previous February 2018 customer data:\", ari_fev_2018)"
   ]
  },
  {
   "cell_type": "markdown",
   "id": "f697ca45",
   "metadata": {},
   "source": [
    "<a id='another_cell_l'></a>"
   ]
  },
  {
   "cell_type": "markdown",
   "id": "db963085",
   "metadata": {},
   "source": [
    "### Conclusion (part 3)"
   ]
  },
  {
   "cell_type": "markdown",
   "id": "f6b0887a",
   "metadata": {},
   "source": [
    "<div class=\"alert-success\">\n",
    "\n",
    "**The ARI (Adjusted Rand Index) is a measure of similarity between two datasets**, often used to evaluate the performance of unsupervised classification models such as K-means. An ARI of 1.00 indicates a perfect match between the actual clusters and the clusters predicted by the model, while an ARI of 0.72 shows a drop in similarity from the previous measurement.\n",
    "\n",
    "**A significant drop in the ARI of a K-means model from one evaluation to the next can indicate several things in the context of a maintenance contract :**\n",
    "- **Changes in upstream data**: It is possible that the data itself has changed over time.\n",
    "- **Model Degradation**: There could be issues with the model itself. Perhaps parts of the model need to be retrained or recalibrated.</i><br>\n",
    "\n",
    "**→ It therefore seems necessary to retrain the model with up-to-date data every month in order to maintain the quality of customer segmentation.**\n",
    "</div>"
   ]
  },
  {
   "cell_type": "markdown",
   "id": "0c37849c",
   "metadata": {},
   "source": [
    " "
   ]
  }
 ],
 "metadata": {
  "kernelspec": {
   "display_name": "Python 3",
   "language": "python",
   "name": "python3"
  },
  "language_info": {
   "codemirror_mode": {
    "name": "ipython",
    "version": 3
   },
   "file_extension": ".py",
   "mimetype": "text/x-python",
   "name": "python",
   "nbconvert_exporter": "python",
   "pygments_lexer": "ipython3",
   "version": "3.8.8"
  }
 },
 "nbformat": 4,
 "nbformat_minor": 5
}
